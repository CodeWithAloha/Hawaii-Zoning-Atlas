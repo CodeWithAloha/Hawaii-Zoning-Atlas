{
 "cells": [
  {
   "cell_type": "code",
   "execution_count": 1,
   "id": "9ad655a9-5e0d-4905-a07f-42453777469b",
   "metadata": {},
   "outputs": [
    {
     "data": {
      "text/plain": [
       "'\\nCalculates percentage of land within house and senate districts\\n\\n@file: DistrictStatistics.ipynb\\n'"
      ]
     },
     "execution_count": 1,
     "metadata": {},
     "output_type": "execute_result"
    }
   ],
   "source": [
    "\"\"\"\n",
    "Calculates percentage of land within house and senate districts\n",
    "\n",
    "@file: DistrictStatistics.ipynb\n",
    "\"\"\""
   ]
  },
  {
   "cell_type": "code",
   "execution_count": 2,
   "id": "9bfe5c8c-50fe-48e0-9019-4fc7ee0bada3",
   "metadata": {},
   "outputs": [],
   "source": [
    "import geopandas as gpd"
   ]
  },
  {
   "cell_type": "markdown",
   "id": "d7a0c367-76c4-492b-a3c7-26fbe79172e5",
   "metadata": {},
   "source": [
    "## Format districts to specified shape files"
   ]
  },
  {
   "cell_type": "code",
   "execution_count": 3,
   "id": "a5c71b5b-45db-42e8-b67c-bab79a6c6016",
   "metadata": {},
   "outputs": [
    {
     "data": {
      "text/plain": [
       "'\\n.dbf files has a column name limitation of 10 characters\\nAs .dbf files only contain the attribute data of the .shp files,\\nin addition to concerns on renaming every column,\\nthis program voluntarily ignores the proceedign column warning.\\n'"
      ]
     },
     "execution_count": 3,
     "metadata": {},
     "output_type": "execute_result"
    }
   ],
   "source": [
    "\"\"\"\n",
    "Disclaimer - '.dbf' files has a column name limitation of 10 characters\n",
    "As .dbf files only contain the attribute data of the .shp files,\n",
    "in addition to concerns on renaming every column,\n",
    "this program voluntarily ignores the proceeding column warning.\n",
    "\"\"\""
   ]
  },
  {
   "cell_type": "code",
   "execution_count": 6,
   "id": "3951edc6-367a-48e9-a0dc-1c3e315389be",
   "metadata": {},
   "outputs": [
    {
     "name": "stderr",
     "output_type": "stream",
     "text": [
      "/var/folders/r_/2ytf114s3qb7_w35tjfh3lm40000gn/T/ipykernel_8069/3471258927.py:4: UserWarning: Column names longer than 10 characters will be truncated when saved to ESRI Shapefile.\n",
      "  gdf.to_file('./district-shapes/house-districts.shp', driver='ESRI Shapefile')\n"
     ]
    }
   ],
   "source": [
    "# Calculate shape files fore house districts\n",
    "\n",
    "gdf = gpd.read_file('../data/house-districts.min.geojson')\n",
    "gdf.to_file('./district-shapes/house-districts.shp', driver='ESRI Shapefile')"
   ]
  },
  {
   "cell_type": "code",
   "execution_count": 7,
   "id": "cacd5911-6077-4ead-a07c-02bd25467c4b",
   "metadata": {},
   "outputs": [
    {
     "name": "stderr",
     "output_type": "stream",
     "text": [
      "/var/folders/r_/2ytf114s3qb7_w35tjfh3lm40000gn/T/ipykernel_8069/1473055130.py:4: UserWarning: Column names longer than 10 characters will be truncated when saved to ESRI Shapefile.\n",
      "  gdf.to_file('./district-shapes/senate-districts.shp', driver='ESRI Shapefile')\n"
     ]
    }
   ],
   "source": [
    "# Calculate shape files fore senate districts\n",
    "\n",
    "gdf = gpd.read_file('../data/senate-districts.min.geojson')\n",
    "gdf.to_file('./district-shapes/senate-districts.shp', driver='ESRI Shapefile')"
   ]
  },
  {
   "cell_type": "markdown",
   "id": "b5da6862-01ab-4afa-a502-06b4da7be3ed",
   "metadata": {},
   "source": [
    "## Define polygon areas within a shapefile"
   ]
  },
  {
   "cell_type": "code",
   "execution_count": 8,
   "id": "e21746f7-b630-47e8-ac6d-0402dbfcd41f",
   "metadata": {},
   "outputs": [
    {
     "name": "stderr",
     "output_type": "stream",
     "text": [
      "/var/folders/r_/2ytf114s3qb7_w35tjfh3lm40000gn/T/ipykernel_8069/736563890.py:4: UserWarning: Geometry is in a geographic CRS. Results from 'area' are likely incorrect. Use 'GeoSeries.to_crs()' to re-project geometries to a projected CRS before this operation.\n",
      "\n",
      "  gdf_house['house_area'] = gdf_house['geometry'].area\n"
     ]
    }
   ],
   "source": [
    "# Calculate area for house district\n",
    "\n",
    "gdf_house = gpd.read_file('./district-shapes/house-districts.shp')\n",
    "gdf_house['house_area'] = gdf_house['geometry'].area"
   ]
  },
  {
   "cell_type": "code",
   "execution_count": null,
   "id": "b8d6156a-3476-4f0a-a57d-10a8f1207e9a",
   "metadata": {},
   "outputs": [],
   "source": [
    "# Calculate area for senate district\n",
    "\n",
    "gdf_senate = gpd.read_file('./district-shapes/senate-districts.shp')\n",
    "gdf_senate['senate_area'] = gdf_senate['geometry'].area"
   ]
  }
 ],
 "metadata": {
  "kernelspec": {
   "display_name": "Python 3 (ipykernel)",
   "language": "python",
   "name": "python3"
  },
  "language_info": {
   "codemirror_mode": {
    "name": "ipython",
    "version": 3
   },
   "file_extension": ".py",
   "mimetype": "text/x-python",
   "name": "python",
   "nbconvert_exporter": "python",
   "pygments_lexer": "ipython3",
   "version": "3.11.3"
  }
 },
 "nbformat": 4,
 "nbformat_minor": 5
}
