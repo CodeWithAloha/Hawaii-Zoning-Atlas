{
 "cells": [
  {
   "cell_type": "code",
   "execution_count": null,
   "id": "9bfe5c8c-50fe-48e0-9019-4fc7ee0bada3",
   "metadata": {},
   "outputs": [],
   "source": [
    "import geopandas as gpd"
   ]
  },
  {
   "cell_type": "code",
   "execution_count": null,
   "id": "b3036cc7-3e73-4968-adb1-8a491eed9529",
   "metadata": {},
   "outputs": [],
   "source": []
  },
  {
   "cell_type": "code",
   "execution_count": null,
   "id": "3951edc6-367a-48e9-a0dc-1c3e315389be",
   "metadata": {},
   "outputs": [],
   "source": [
    "\n",
    "\n",
    "gdf = gpd.read_file('../data/house-districts.min.geojson')\n",
    "gdf.to_file('./district-shapes/house-districts.shp')"
   ]
  },
  {
   "cell_type": "code",
   "execution_count": null,
   "id": "cacd5911-6077-4ead-a07c-02bd25467c4b",
   "metadata": {},
   "outputs": [],
   "source": []
  }
 ],
 "metadata": {
  "kernelspec": {
   "display_name": "Python 3 (ipykernel)",
   "language": "python",
   "name": "python3"
  },
  "language_info": {
   "codemirror_mode": {
    "name": "ipython",
    "version": 3
   },
   "file_extension": ".py",
   "mimetype": "text/x-python",
   "name": "python",
   "nbconvert_exporter": "python",
   "pygments_lexer": "ipython3",
   "version": "3.11.3"
  }
 },
 "nbformat": 4,
 "nbformat_minor": 5
}
